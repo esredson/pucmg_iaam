{
 "cells": [
  {
   "cell_type": "markdown",
   "metadata": {},
   "source": [
    "# Análise da clusterização das notícias"
   ]
  },
  {
   "cell_type": "markdown",
   "metadata": {},
   "source": [
    "## Imports, definição de funções e carregamento dos dados"
   ]
  },
  {
   "cell_type": "code",
   "execution_count": 1,
   "metadata": {},
   "outputs": [
    {
     "name": "stderr",
     "output_type": "stream",
     "text": [
      "[nltk_data] Downloading package stopwords to\n",
      "[nltk_data]     C:\\Users\\Edson\\AppData\\Roaming\\nltk_data...\n",
      "[nltk_data]   Package stopwords is already up-to-date!\n"
     ]
    },
    {
     "name": "stdout",
     "output_type": "stream",
     "text": [
      "Limpando titulo\n",
      "Limpando resumo\n"
     ]
    }
   ],
   "source": [
    "from b_limpar.limpador import Limpador\n",
    "from b_vetorizar.vetorizador import Vetorizador\n",
    "from c_clusterizar_por_texto.clusterizador_textual import ClusterizadorTextual\n",
    "from c_clusterizar_por_texto.otimizador_clusterizacao_textual import OtimizadorClusterizacaoTextual\n",
    "from _common import util\n",
    "import matplotlib.pyplot as plt\n",
    "import numpy as np\n",
    "from collections import Counter\n",
    "import pandas as pd\n",
    "\n",
    "plt.rcParams['figure.figsize'] = [15, 5]\n",
    "\n",
    "noticias_df = util.carregar_todas_as_noticias() \n",
    "Limpador().limpar_se_necessario(noticias_df)\n",
    "vetorizador = Vetorizador()\n",
    "clusterizador = ClusterizadorTextual()\n",
    "otimizador = OtimizadorClusterizacaoTextual(vetorizador, clusterizador, noticias_df)"
   ]
  },
  {
   "cell_type": "markdown",
   "metadata": {},
   "source": [
    "## Impacto do epsilon sobre a clusterização"
   ]
  },
  {
   "cell_type": "markdown",
   "metadata": {},
   "source": [
    "Como se pode observar no gráfico abaixo à esquerda, conforme aumenta o valor do hiperparâmetro epsilon, é incrementado o número de clusters, porém até certo ponto; a partir de um certo valor de epsilon, o número de clusters diminui. \n",
    "\n",
    "O gráfico direita mostra que, enquanto o número de outliers diminui, aumenta o número de itens agrupados num supercluster. Isso reflete o que ocorre no gráfico da esquerda: quando o epsilon passa do valor que produz o maior número de clusters, esse supercluster começa a \"engolir\" um grande número de itens até predominar.\n",
    "\n",
    "O código da primeira célula abaixo executa a clusterização para uma faixa de valores de epsilon. Para o teste, foi utilizado o modelo Word2vec sem inclusão do resumo. O código da segunda célula abaixo gera os gráfico que relacionam o epsilon ao número de clusters, ao número de outliers e ao número de itens agrupados no maior cluster. "
   ]
  },
  {
   "cell_type": "code",
   "execution_count": 10,
   "metadata": {},
   "outputs": [
    {
     "name": "stdout",
     "output_type": "stream",
     "text": [
      "Vetorizando com Word2Vec\n"
     ]
    }
   ],
   "source": [
    "vetorizador.vetorizar_word2vec(noticias_df, usar_texto_limpo=True, incluir_resumo=False)\n",
    "num_classes = {}\n",
    "num_outliers = {}\n",
    "num_itens_na_maior_classe = {}\n",
    "for eps in np.arange(0.01, 2.00, 0.01):\n",
    "    clusterizador.clusterizar(noticias_df, epsilon = eps, min_samples=2)\n",
    "    counter = Counter(noticias_df['assunto'])\n",
    "    num_classes.update({eps: len(counter.items())})\n",
    "    num_outliers.update({eps: counter.get(-1)})\n",
    "    num_itens_na_maior_classe.update({eps: max({k: v for k, v in counter.items() if k != None and k > -1}.values())})"
   ]
  },
  {
   "cell_type": "code",
   "execution_count": 33,
   "metadata": {},
   "outputs": [
    {
     "data": {
      "image/png": "[encoded data removed]",
      "text/plain": [
       "<Figure size 1080x360 with 2 Axes>"
      ]
     },
     "metadata": {
      "needs_background": "light"
     },
     "output_type": "display_data"
    }
   ],
   "source": [
    "figure, axis = plt.subplots(1, 2)\n",
    "axis[0].plot(list(num_classes.keys()), list(num_classes.values()))\n",
    "axis[0].set_title(\"Num. clusters\")\n",
    "axis[1].plot(list(num_outliers.keys()), list(num_outliers.values()), label=\"Outliers\")\n",
    "axis[1].plot(list(num_itens_na_maior_classe.keys()), list(num_itens_na_maior_classe.values()), label=\"Maior cluster\")\n",
    "axis[1].set_title(\"Num. outliers vs num. itens no maior cluster\")\n",
    "axis[1].legend(loc=\"lower right\")\n",
    "plt.show()"
   ]
  },
  {
   "cell_type": "markdown",
   "metadata": {},
   "source": [
    "## Busca pelos melhores hiperparâmetros"
   ]
  },
  {
   "cell_type": "markdown",
   "metadata": {},
   "source": [
    "A célula abaixo faz uma busca bayesiana pelos cruzamentos de cenários e valores de hiperparâmetros possíveis: \n",
    "- Usar texto limpo: True, False\n",
    "- Incluir o resumo ao vetorizar: True, False\n",
    "- Modelo de linguagem: USE, SBERT, WORD2VEC\n",
    "- Hiperparâmetro epsilon: escala de 0.01 a 2.00\n",
    "- Hiperparâmetro min_samples: escala de 2 a 5\n",
    "\n",
    "Considerando que se deseja agrupar itens que sejam realmente similares e levando em conta o comportamento do número de clusters exibido no gráfico acima, decidiu-se priorizar a combinação de valores que resulte no maior número de clusters."
   ]
  },
  {
   "cell_type": "code",
   "execution_count": 2,
   "metadata": {},
   "outputs": [
    {
     "name": "stdout",
     "output_type": "stream",
     "text": [
      "Baixando e carregando modelo Google USE\n",
      "Vetorizando com Google USE\n",
      "100%|██████████| 100/100 [05:20<00:00,  3.21s/trial, best loss: -372.0]\n",
      "Vetorizando com Google USE\n",
      "100%|██████████| 100/100 [05:12<00:00,  3.12s/trial, best loss: -419.0]\n",
      "Vetorizando com Google USE\n",
      "100%|██████████| 100/100 [05:42<00:00,  3.42s/trial, best loss: -255.0]\n",
      "Vetorizando com Google USE\n",
      "100%|██████████| 100/100 [05:39<00:00,  3.39s/trial, best loss: -420.0]\n",
      "Baixando e carregando modelo SBERT\n",
      "Vetorizando com SBERT\n",
      "100%|██████████| 100/100 [05:17<00:00,  3.17s/trial, best loss: -679.0]\n",
      "Vetorizando com SBERT\n",
      "100%|██████████| 100/100 [05:17<00:00,  3.17s/trial, best loss: -856.0]\n",
      "Vetorizando com SBERT\n",
      "100%|██████████| 100/100 [05:11<00:00,  3.12s/trial, best loss: -645.0]\n",
      "Vetorizando com SBERT\n",
      "100%|██████████| 100/100 [05:02<00:00,  3.03s/trial, best loss: -904.0]\n",
      "Baixando modelo Word2Vec\n",
      "Carregando modelo Word2Vec\n",
      "Vetorizando com Word2Vec\n",
      "100%|██████████| 100/100 [03:41<00:00,  2.21s/trial, best loss: -469.0]\n",
      "Vetorizando com Word2Vec\n",
      "100%|██████████| 100/100 [04:21<00:00,  2.61s/trial, best loss: -677.0]\n"
     ]
    }
   ],
   "source": [
    "resultado = otimizador.executar()"
   ]
  },
  {
   "cell_type": "code",
   "execution_count": 3,
   "metadata": {},
   "outputs": [
    {
     "data": {
      "text/html": [
       "<div>\n",
       "<style scoped>\n",
       "    .dataframe tbody tr th:only-of-type {\n",
       "        vertical-align: middle;\n",
       "    }\n",
       "\n",
       "    .dataframe tbody tr th {\n",
       "        vertical-align: top;\n",
       "    }\n",
       "\n",
       "    .dataframe thead th {\n",
       "        text-align: right;\n",
       "    }\n",
       "</style>\n",
       "<table border=\"1\" class=\"dataframe\">\n",
       "  <thead>\n",
       "    <tr style=\"text-align: right;\">\n",
       "      <th></th>\n",
       "      <th>modelo_linguagem</th>\n",
       "      <th>usar_texto_limpo</th>\n",
       "      <th>incluir_resumo</th>\n",
       "      <th>melhor_epsilon</th>\n",
       "      <th>melhor_min_samples</th>\n",
       "      <th>melhor_metric</th>\n",
       "      <th>maior_num_classes</th>\n",
       "    </tr>\n",
       "  </thead>\n",
       "  <tbody>\n",
       "    <tr>\n",
       "      <th>0</th>\n",
       "      <td>USE</td>\n",
       "      <td>True</td>\n",
       "      <td>True</td>\n",
       "      <td>0.113163</td>\n",
       "      <td>2</td>\n",
       "      <td>cosine</td>\n",
       "      <td>372.0</td>\n",
       "    </tr>\n",
       "    <tr>\n",
       "      <th>1</th>\n",
       "      <td>USE</td>\n",
       "      <td>True</td>\n",
       "      <td>False</td>\n",
       "      <td>0.164393</td>\n",
       "      <td>2</td>\n",
       "      <td>cosine</td>\n",
       "      <td>419.0</td>\n",
       "    </tr>\n",
       "    <tr>\n",
       "      <th>2</th>\n",
       "      <td>USE</td>\n",
       "      <td>False</td>\n",
       "      <td>True</td>\n",
       "      <td>0.119678</td>\n",
       "      <td>2</td>\n",
       "      <td>cosine</td>\n",
       "      <td>255.0</td>\n",
       "    </tr>\n",
       "    <tr>\n",
       "      <th>3</th>\n",
       "      <td>USE</td>\n",
       "      <td>False</td>\n",
       "      <td>False</td>\n",
       "      <td>0.137167</td>\n",
       "      <td>2</td>\n",
       "      <td>cosine</td>\n",
       "      <td>420.0</td>\n",
       "    </tr>\n",
       "    <tr>\n",
       "      <th>4</th>\n",
       "      <td>SBERT</td>\n",
       "      <td>True</td>\n",
       "      <td>True</td>\n",
       "      <td>0.256549</td>\n",
       "      <td>2</td>\n",
       "      <td>cosine</td>\n",
       "      <td>679.0</td>\n",
       "    </tr>\n",
       "    <tr>\n",
       "      <th>5</th>\n",
       "      <td>SBERT</td>\n",
       "      <td>True</td>\n",
       "      <td>False</td>\n",
       "      <td>0.239138</td>\n",
       "      <td>2</td>\n",
       "      <td>cosine</td>\n",
       "      <td>856.0</td>\n",
       "    </tr>\n",
       "    <tr>\n",
       "      <th>6</th>\n",
       "      <td>SBERT</td>\n",
       "      <td>False</td>\n",
       "      <td>True</td>\n",
       "      <td>0.259471</td>\n",
       "      <td>2</td>\n",
       "      <td>cosine</td>\n",
       "      <td>645.0</td>\n",
       "    </tr>\n",
       "    <tr>\n",
       "      <th>7</th>\n",
       "      <td>SBERT</td>\n",
       "      <td>False</td>\n",
       "      <td>False</td>\n",
       "      <td>0.306722</td>\n",
       "      <td>2</td>\n",
       "      <td>cosine</td>\n",
       "      <td>904.0</td>\n",
       "    </tr>\n",
       "    <tr>\n",
       "      <th>8</th>\n",
       "      <td>WORD2VEC</td>\n",
       "      <td>True</td>\n",
       "      <td>True</td>\n",
       "      <td>0.111871</td>\n",
       "      <td>2</td>\n",
       "      <td>cosine</td>\n",
       "      <td>469.0</td>\n",
       "    </tr>\n",
       "    <tr>\n",
       "      <th>9</th>\n",
       "      <td>WORD2VEC</td>\n",
       "      <td>True</td>\n",
       "      <td>False</td>\n",
       "      <td>0.289800</td>\n",
       "      <td>2</td>\n",
       "      <td>cosine</td>\n",
       "      <td>677.0</td>\n",
       "    </tr>\n",
       "  </tbody>\n",
       "</table>\n",
       "</div>"
      ],
      "text/plain": [
       "  modelo_linguagem  usar_texto_limpo  incluir_resumo  melhor_epsilon  \\\n",
       "0              USE              True            True        0.113163   \n",
       "1              USE              True           False        0.164393   \n",
       "2              USE             False            True        0.119678   \n",
       "3              USE             False           False        0.137167   \n",
       "4            SBERT              True            True        0.256549   \n",
       "5            SBERT              True           False        0.239138   \n",
       "6            SBERT             False            True        0.259471   \n",
       "7            SBERT             False           False        0.306722   \n",
       "8         WORD2VEC              True            True        0.111871   \n",
       "9         WORD2VEC              True           False        0.289800   \n",
       "\n",
       "   melhor_min_samples melhor_metric  maior_num_classes  \n",
       "0                   2        cosine              372.0  \n",
       "1                   2        cosine              419.0  \n",
       "2                   2        cosine              255.0  \n",
       "3                   2        cosine              420.0  \n",
       "4                   2        cosine              679.0  \n",
       "5                   2        cosine              856.0  \n",
       "6                   2        cosine              645.0  \n",
       "7                   2        cosine              904.0  \n",
       "8                   2        cosine              469.0  \n",
       "9                   2        cosine              677.0  "
      ]
     },
     "execution_count": 3,
     "metadata": {},
     "output_type": "execute_result"
    }
   ],
   "source": [
    "resultado"
   ]
  },
  {
   "cell_type": "markdown",
   "metadata": {},
   "source": [
    "## Visualização dos clusters"
   ]
  },
  {
   "cell_type": "markdown",
   "metadata": {},
   "source": [
    "A célula abaixo salva no arquivo resultado_clusterizacao_textual.csv (e também exibe no output) os títulos das notícias e seus respectivos clusters. Os itens classificados como -1 são outliers. Os de classe vazia foram ignorados na clusterização por terem sido marcados como ignorados na etapa de limpeza. "
   ]
  },
  {
   "cell_type": "code",
   "execution_count": 5,
   "metadata": {},
   "outputs": [
    {
     "name": "stdout",
     "output_type": "stream",
     "text": [
      "Vetorizando com Google USE\n"
     ]
    },
    {
     "data": {
      "text/html": [
       "<div>\n",
       "<style scoped>\n",
       "    .dataframe tbody tr th:only-of-type {\n",
       "        vertical-align: middle;\n",
       "    }\n",
       "\n",
       "    .dataframe tbody tr th {\n",
       "        vertical-align: top;\n",
       "    }\n",
       "\n",
       "    .dataframe thead th {\n",
       "        text-align: right;\n",
       "    }\n",
       "</style>\n",
       "<table border=\"1\" class=\"dataframe\">\n",
       "  <thead>\n",
       "    <tr style=\"text-align: right;\">\n",
       "      <th></th>\n",
       "      <th>assunto</th>\n",
       "      <th>titulo</th>\n",
       "    </tr>\n",
       "  </thead>\n",
       "  <tbody>\n",
       "    <tr>\n",
       "      <th>10066</th>\n",
       "      <td>63</td>\n",
       "      <td>Mega-Sena sorteia nesta quarta-feira prêmio ac...</td>\n",
       "    </tr>\n",
       "    <tr>\n",
       "      <th>9261</th>\n",
       "      <td>63</td>\n",
       "      <td>Mega-Sena acumula e próximo prêmio é estimado ...</td>\n",
       "    </tr>\n",
       "    <tr>\n",
       "      <th>10610</th>\n",
       "      <td>63</td>\n",
       "      <td>Ninguém acerta a Mega-Sena e prêmio acumula em...</td>\n",
       "    </tr>\n",
       "    <tr>\n",
       "      <th>4687</th>\n",
       "      <td>63</td>\n",
       "      <td>Mega-Sena sorteia nesta quarta-feira prêmio es...</td>\n",
       "    </tr>\n",
       "    <tr>\n",
       "      <th>1299</th>\n",
       "      <td>62</td>\n",
       "      <td>Tipos de saques para liberação de FGTS</td>\n",
       "    </tr>\n",
       "    <tr>\n",
       "      <th>...</th>\n",
       "      <td>...</td>\n",
       "      <td>...</td>\n",
       "    </tr>\n",
       "    <tr>\n",
       "      <th>10669</th>\n",
       "      <td>None</td>\n",
       "      <td>Inflação leva britânicos aos bancos de alimentos</td>\n",
       "    </tr>\n",
       "    <tr>\n",
       "      <th>10651</th>\n",
       "      <td>None</td>\n",
       "      <td>Sine Maceió oferta mais de 200 vagas de empreg...</td>\n",
       "    </tr>\n",
       "    <tr>\n",
       "      <th>10650</th>\n",
       "      <td>None</td>\n",
       "      <td>Como falta de dinheiro prejudica inteligência ...</td>\n",
       "    </tr>\n",
       "    <tr>\n",
       "      <th>10646</th>\n",
       "      <td>None</td>\n",
       "      <td>VÍDEOS: Gazeta Rural de domingo, 29 de maio</td>\n",
       "    </tr>\n",
       "    <tr>\n",
       "      <th>10699</th>\n",
       "      <td>None</td>\n",
       "      <td>'Brasil não tem só que combater pobreza, mas m...</td>\n",
       "    </tr>\n",
       "  </tbody>\n",
       "</table>\n",
       "<p>10715 rows × 2 columns</p>\n",
       "</div>"
      ],
      "text/plain": [
       "      assunto                                             titulo\n",
       "10066      63  Mega-Sena sorteia nesta quarta-feira prêmio ac...\n",
       "9261       63  Mega-Sena acumula e próximo prêmio é estimado ...\n",
       "10610      63  Ninguém acerta a Mega-Sena e prêmio acumula em...\n",
       "4687       63  Mega-Sena sorteia nesta quarta-feira prêmio es...\n",
       "1299       62             Tipos de saques para liberação de FGTS\n",
       "...       ...                                                ...\n",
       "10669    None   Inflação leva britânicos aos bancos de alimentos\n",
       "10651    None  Sine Maceió oferta mais de 200 vagas de empreg...\n",
       "10650    None  Como falta de dinheiro prejudica inteligência ...\n",
       "10646    None        VÍDEOS: Gazeta Rural de domingo, 29 de maio\n",
       "10699    None  'Brasil não tem só que combater pobreza, mas m...\n",
       "\n",
       "[10715 rows x 2 columns]"
      ]
     },
     "execution_count": 5,
     "metadata": {},
     "output_type": "execute_result"
    }
   ],
   "source": [
    "vetorizador.vetorizar_use(noticias_df, usar_texto_limpo=True, incluir_resumo=True)\n",
    "ClusterizadorTextual().clusterizar(noticias_df, epsilon = 0.113163\t, min_samples=4, metric='cosine')\n",
    "noticias_clusterizadas_df = noticias_df[['assunto', 'titulo']].copy()\n",
    "noticias_clusterizadas_df.sort_values('assunto', ascending=False, inplace=True)\n",
    "noticias_clusterizadas_df.to_csv('resultado_clusterizacao_textual.csv', index=False)\n",
    "noticias_clusterizadas_df"
   ]
  }
 ],
 "metadata": {
  "kernelspec": {
   "display_name": "Python 3.9.7 ('.venv': poetry)",
   "language": "python",
   "name": "python3"
  },
  "language_info": {
   "codemirror_mode": {
    "name": "ipython",
    "version": 3
   },
   "file_extension": ".py",
   "mimetype": "text/x-python",
   "name": "python",
   "nbconvert_exporter": "python",
   "pygments_lexer": "ipython3",
   "version": "3.9.7"
  },
  "orig_nbformat": 4,
  "vscode": {
   "interpreter": {
    "hash": "276be159886c33b94c62fdcd9dc61f812fb472c0c3d4f0c822970a2316ee1221"
   }
  }
 },
 "nbformat": 4,
 "nbformat_minor": 2
}
