{
 "cells": [
  {
   "cell_type": "markdown",
   "metadata": {},
   "source": [
    "# Análise da clusterização das notícias"
   ]
  },
  {
   "cell_type": "markdown",
   "metadata": {},
   "source": [
    "## Imports, definição de funções e carregamento dos dados"
   ]
  },
  {
   "cell_type": "code",
   "execution_count": 1,
   "metadata": {},
   "outputs": [
    {
     "name": "stdout",
     "output_type": "stream",
     "text": [
      "Carregando todas as notícias\n"
     ]
    },
    {
     "name": "stderr",
     "output_type": "stream",
     "text": [
      "[nltk_data] Downloading package stopwords to\n",
      "[nltk_data]     C:\\Users\\Edson\\AppData\\Roaming\\nltk_data...\n",
      "[nltk_data]   Package stopwords is already up-to-date!\n"
     ]
    }
   ],
   "source": [
    "from b_limpar.limpador import Limpador\n",
    "from b_vetorizar.vetorizador import Vetorizador\n",
    "from c_clusterizar_por_texto.clusterizador_textual import ClusterizadorTextual\n",
    "from c_clusterizar_por_texto.otimizador_clusterizacao_textual import OtimizadorClusterizacaoTextual\n",
    "from _common import util\n",
    "import matplotlib.pyplot as plt\n",
    "import numpy as np\n",
    "from collections import Counter\n",
    "import pandas as pd\n",
    "\n",
    "noticias_df = util.carregar_todas_as_noticias() \n",
    "Limpador().limpar_se_necessario(noticias_df)\n",
    "vetorizador = Vetorizador()\n",
    "clusterizador = ClusterizadorTextual()\n",
    "otimizador = OtimizadorClusterizacaoTextual(vetorizador, clusterizador, noticias_df)"
   ]
  },
  {
   "cell_type": "markdown",
   "metadata": {},
   "source": [
    "## Impacto do epsilon sobre a clusterização"
   ]
  },
  {
   "cell_type": "markdown",
   "metadata": {},
   "source": [
    "Como se pode observar no gráfico abaixo à esquerda, conforme aumenta o valor do hiperparâmetro epsilon, é incrementado o número de clusters, porém até certo ponto; a partir de um certo valor de epsilon, o número de clusters diminui. \n",
    "\n",
    "O gráfico direita mostra que, enquanto o número de outliers diminui, aumenta o número de itens agrupados num supercluster. Isso reflete o que ocorre no gráfico da esquerda: quando o epsilon passa do valor que produz o maior número de clusters, esse supercluster começa a \"engolir\" um grande número de itens até predominar.\n",
    "\n",
    "O código da primeira célula abaixo executa a clusterização para uma faixa de valores de epsilon. Para o teste, foi utilizado o modelo Word2vec sem inclusão do resumo. O código da segunda célula abaixo gera os gráfico que relacionam o epsilon ao número de clusters, ao número de outliers e ao número de itens agrupados no maior cluster. "
   ]
  },
  {
   "cell_type": "code",
   "execution_count": 18,
   "metadata": {},
   "outputs": [
    {
     "name": "stdout",
     "output_type": "stream",
     "text": [
      "Baixando modelo Word2Vec\n",
      "Carregando modelo Word2Vec\n",
      "Vetorizando com Word2Vec\n"
     ]
    }
   ],
   "source": [
    "vetorizador.vetorizar_word2vec(noticias_df, usar_texto_limpo=True, incluir_resumo=False)\n",
    "num_classes = {}\n",
    "num_outliers = {}\n",
    "num_itens_na_maior_classe = {}\n",
    "for eps in np.arange(0.01, 2.00, 0.01):\n",
    "    clusterizador.clusterizar(noticias_df, epsilon = eps, min_samples=4)\n",
    "    counter = Counter(noticias_df['assunto'])\n",
    "    num_classes.update({eps: len(counter.items())})\n",
    "    num_outliers.update({eps: counter.get(-1)})\n",
    "    num_itens_na_maior_classe.update({eps: max({k: v for k, v in counter.items() if k != None and k > -1}.values())})"
   ]
  },
  {
   "cell_type": "code",
   "execution_count": 21,
   "metadata": {},
   "outputs": [
    {
     "data": {
      "image/png": "[encoded data removed]",
      "text/plain": [
       "<Figure size 1080x360 with 2 Axes>"
      ]
     },
     "metadata": {
      "needs_background": "light"
     },
     "output_type": "display_data"
    }
   ],
   "source": [
    "figure, axis = plt.subplots(1, 2)\n",
    "axis[0].plot(list(num_classes.keys()), list(num_classes.values()))\n",
    "axis[0].set_title(\"Num. clusters\")\n",
    "axis[1].plot(list(num_outliers.keys()), list(num_outliers.values()), label=\"Outliers\")\n",
    "axis[1].plot(list(num_itens_na_maior_classe.keys()), list(num_itens_na_maior_classe.values()), label=\"Maior cluster\")\n",
    "axis[1].set_title(\"Num. outliers vs num. itens no maior cluster\")\n",
    "axis[1].legend(loc=\"lower right\")\n",
    "plt.show()\n",
    "plt.rcParams['figure.figsize'] = [15, 5]"
   ]
  },
  {
   "cell_type": "markdown",
   "metadata": {},
   "source": [
    "## Busca pelos melhores hiperparâmetros"
   ]
  },
  {
   "cell_type": "markdown",
   "metadata": {},
   "source": [
    "A célula abaixo faz uma busca bayesiana pelos cruzamentos de cenários e valores de hiperparâmetros possíveis: \n",
    "- Usar texto limpo: True, False\n",
    "- Incluir o resumo ao vetorizar: True, False\n",
    "- Modelo de linguagem: USE, SBERT, WORD2VEC\n",
    "- Hiperparâmetro epsilon: escala de 0.01 a 2.00\n",
    "\n",
    "Considerando que se deseja agrupar itens que sejam realmente similares e levando em conta o comportamento do número de clusters exibido no gráfico acima, decidiu-se priorizar a combinação de valores que resulte no maior número de clusters."
   ]
  },
  {
   "cell_type": "code",
   "execution_count": 2,
   "metadata": {},
   "outputs": [
    {
     "name": "stdout",
     "output_type": "stream",
     "text": [
      "Baixando e carregando modelo Google USE\n",
      "Vetorizando com Google USE\n",
      "100%|██████████| 100/100 [05:40<00:00,  3.40s/trial, best loss: -77.0]\n",
      "Vetorizando com Google USE\n",
      "100%|██████████| 100/100 [05:56<00:00,  3.56s/trial, best loss: -60.0]\n",
      "Vetorizando com Google USE\n",
      "100%|██████████| 100/100 [06:08<00:00,  3.69s/trial, best loss: -41.0]\n",
      "Vetorizando com Google USE\n",
      "100%|██████████| 100/100 [06:07<00:00,  3.67s/trial, best loss: -50.0]\n",
      "Baixando e carregando modelo SBERT\n",
      "Vetorizando com SBERT\n",
      "100%|██████████| 100/100 [05:22<00:00,  3.22s/trial, best loss: -133.0]\n",
      "Vetorizando com SBERT\n",
      "100%|██████████| 100/100 [05:32<00:00,  3.33s/trial, best loss: -146.0]\n",
      "Vetorizando com SBERT\n",
      "100%|██████████| 100/100 [05:30<00:00,  3.30s/trial, best loss: -111.0]\n",
      "Vetorizando com SBERT\n",
      "100%|██████████| 100/100 [05:18<00:00,  3.19s/trial, best loss: -167.0]\n",
      "Baixando modelo Word2Vec\n",
      "Carregando modelo Word2Vec\n",
      "Vetorizando com Word2Vec\n",
      "100%|██████████| 100/100 [03:38<00:00,  2.18s/trial, best loss: -102.0]\n",
      "Vetorizando com Word2Vec\n",
      "100%|██████████| 100/100 [04:16<00:00,  2.57s/trial, best loss: -133.0]\n"
     ]
    }
   ],
   "source": [
    "resultado = otimizador.executar()"
   ]
  },
  {
   "cell_type": "code",
   "execution_count": 3,
   "metadata": {},
   "outputs": [
    {
     "data": {
      "text/html": [
       "<div>\n",
       "<style scoped>\n",
       "    .dataframe tbody tr th:only-of-type {\n",
       "        vertical-align: middle;\n",
       "    }\n",
       "\n",
       "    .dataframe tbody tr th {\n",
       "        vertical-align: top;\n",
       "    }\n",
       "\n",
       "    .dataframe thead th {\n",
       "        text-align: right;\n",
       "    }\n",
       "</style>\n",
       "<table border=\"1\" class=\"dataframe\">\n",
       "  <thead>\n",
       "    <tr style=\"text-align: right;\">\n",
       "      <th></th>\n",
       "      <th>modelo_linguagem</th>\n",
       "      <th>usar_texto_limpo</th>\n",
       "      <th>incluir_resumo</th>\n",
       "      <th>melhor_epsilon</th>\n",
       "      <th>melhor_metric</th>\n",
       "      <th>maior_num_classes</th>\n",
       "    </tr>\n",
       "  </thead>\n",
       "  <tbody>\n",
       "    <tr>\n",
       "      <th>0</th>\n",
       "      <td>USE</td>\n",
       "      <td>True</td>\n",
       "      <td>True</td>\n",
       "      <td>0.123097</td>\n",
       "      <td>cosine</td>\n",
       "      <td>77.0</td>\n",
       "    </tr>\n",
       "    <tr>\n",
       "      <th>1</th>\n",
       "      <td>USE</td>\n",
       "      <td>True</td>\n",
       "      <td>False</td>\n",
       "      <td>0.189706</td>\n",
       "      <td>cosine</td>\n",
       "      <td>60.0</td>\n",
       "    </tr>\n",
       "    <tr>\n",
       "      <th>2</th>\n",
       "      <td>USE</td>\n",
       "      <td>False</td>\n",
       "      <td>True</td>\n",
       "      <td>0.064859</td>\n",
       "      <td>cosine</td>\n",
       "      <td>41.0</td>\n",
       "    </tr>\n",
       "    <tr>\n",
       "      <th>3</th>\n",
       "      <td>USE</td>\n",
       "      <td>False</td>\n",
       "      <td>False</td>\n",
       "      <td>0.126351</td>\n",
       "      <td>cosine</td>\n",
       "      <td>50.0</td>\n",
       "    </tr>\n",
       "    <tr>\n",
       "      <th>4</th>\n",
       "      <td>SBERT</td>\n",
       "      <td>True</td>\n",
       "      <td>True</td>\n",
       "      <td>0.302612</td>\n",
       "      <td>cosine</td>\n",
       "      <td>133.0</td>\n",
       "    </tr>\n",
       "    <tr>\n",
       "      <th>5</th>\n",
       "      <td>SBERT</td>\n",
       "      <td>True</td>\n",
       "      <td>False</td>\n",
       "      <td>0.306983</td>\n",
       "      <td>cosine</td>\n",
       "      <td>146.0</td>\n",
       "    </tr>\n",
       "    <tr>\n",
       "      <th>6</th>\n",
       "      <td>SBERT</td>\n",
       "      <td>False</td>\n",
       "      <td>True</td>\n",
       "      <td>0.267518</td>\n",
       "      <td>cosine</td>\n",
       "      <td>111.0</td>\n",
       "    </tr>\n",
       "    <tr>\n",
       "      <th>7</th>\n",
       "      <td>SBERT</td>\n",
       "      <td>False</td>\n",
       "      <td>False</td>\n",
       "      <td>0.341808</td>\n",
       "      <td>cosine</td>\n",
       "      <td>167.0</td>\n",
       "    </tr>\n",
       "    <tr>\n",
       "      <th>8</th>\n",
       "      <td>WORD2VEC</td>\n",
       "      <td>True</td>\n",
       "      <td>True</td>\n",
       "      <td>0.110499</td>\n",
       "      <td>cosine</td>\n",
       "      <td>102.0</td>\n",
       "    </tr>\n",
       "    <tr>\n",
       "      <th>9</th>\n",
       "      <td>WORD2VEC</td>\n",
       "      <td>True</td>\n",
       "      <td>False</td>\n",
       "      <td>0.331829</td>\n",
       "      <td>cosine</td>\n",
       "      <td>133.0</td>\n",
       "    </tr>\n",
       "  </tbody>\n",
       "</table>\n",
       "</div>"
      ],
      "text/plain": [
       "  modelo_linguagem  usar_texto_limpo  incluir_resumo  melhor_epsilon  \\\n",
       "0              USE              True            True        0.123097   \n",
       "1              USE              True           False        0.189706   \n",
       "2              USE             False            True        0.064859   \n",
       "3              USE             False           False        0.126351   \n",
       "4            SBERT              True            True        0.302612   \n",
       "5            SBERT              True           False        0.306983   \n",
       "6            SBERT             False            True        0.267518   \n",
       "7            SBERT             False           False        0.341808   \n",
       "8         WORD2VEC              True            True        0.110499   \n",
       "9         WORD2VEC              True           False        0.331829   \n",
       "\n",
       "  melhor_metric  maior_num_classes  \n",
       "0        cosine               77.0  \n",
       "1        cosine               60.0  \n",
       "2        cosine               41.0  \n",
       "3        cosine               50.0  \n",
       "4        cosine              133.0  \n",
       "5        cosine              146.0  \n",
       "6        cosine              111.0  \n",
       "7        cosine              167.0  \n",
       "8        cosine              102.0  \n",
       "9        cosine              133.0  "
      ]
     },
     "execution_count": 3,
     "metadata": {},
     "output_type": "execute_result"
    }
   ],
   "source": [
    "resultado"
   ]
  },
  {
   "cell_type": "markdown",
   "metadata": {},
   "source": [
    "## Visualização dos clusters"
   ]
  },
  {
   "cell_type": "markdown",
   "metadata": {},
   "source": [
    "A célula abaixo salva no arquivo resultado_clusterizacao_textual.csv (e também exibe no output) os títulos das notícias e seus respectivos clusters. Os itens classificados como -1 são outliers. Os de classe vazia foram ignorados na clusterização por terem sido marcados como ignorados na etapa de limpeza. "
   ]
  },
  {
   "cell_type": "code",
   "execution_count": 4,
   "metadata": {},
   "outputs": [
    {
     "name": "stdout",
     "output_type": "stream",
     "text": [
      "Vetorizando com SBERT\n"
     ]
    },
    {
     "data": {
      "text/html": [
       "<div>\n",
       "<style scoped>\n",
       "    .dataframe tbody tr th:only-of-type {\n",
       "        vertical-align: middle;\n",
       "    }\n",
       "\n",
       "    .dataframe tbody tr th {\n",
       "        vertical-align: top;\n",
       "    }\n",
       "\n",
       "    .dataframe thead th {\n",
       "        text-align: right;\n",
       "    }\n",
       "</style>\n",
       "<table border=\"1\" class=\"dataframe\">\n",
       "  <thead>\n",
       "    <tr style=\"text-align: right;\">\n",
       "      <th></th>\n",
       "      <th>assunto</th>\n",
       "      <th>data_publ</th>\n",
       "      <th>titulo</th>\n",
       "    </tr>\n",
       "  </thead>\n",
       "  <tbody>\n",
       "    <tr>\n",
       "      <th>10890</th>\n",
       "      <td>164</td>\n",
       "      <td>2022-10-05 12:23:32</td>\n",
       "      <td>Pai e filho brasileiros são presos nos EUA por...</td>\n",
       "    </tr>\n",
       "    <tr>\n",
       "      <th>11049</th>\n",
       "      <td>164</td>\n",
       "      <td>2022-10-05 12:05:55</td>\n",
       "      <td>Brasileiros são presos nos EUA acusados de con...</td>\n",
       "    </tr>\n",
       "    <tr>\n",
       "      <th>10900</th>\n",
       "      <td>164</td>\n",
       "      <td>2022-10-05 00:38:36</td>\n",
       "      <td>Brasileiro suspeito de agir como 'coiote' é in...</td>\n",
       "    </tr>\n",
       "    <tr>\n",
       "      <th>10028</th>\n",
       "      <td>164</td>\n",
       "      <td>2022-05-24 22:00:31</td>\n",
       "      <td>Brasileiro é preso depois de ameaçar explodir ...</td>\n",
       "    </tr>\n",
       "    <tr>\n",
       "      <th>6759</th>\n",
       "      <td>164</td>\n",
       "      <td>2022-05-16 18:11:06</td>\n",
       "      <td>Família de brasileiros abandona EUA devido a u...</td>\n",
       "    </tr>\n",
       "    <tr>\n",
       "      <th>...</th>\n",
       "      <td>...</td>\n",
       "      <td>...</td>\n",
       "      <td>...</td>\n",
       "    </tr>\n",
       "    <tr>\n",
       "      <th>10841</th>\n",
       "      <td>None</td>\n",
       "      <td>2022-10-05 16:32:44</td>\n",
       "      <td>As histórias de jovens mortas nas manifestaçõe...</td>\n",
       "    </tr>\n",
       "    <tr>\n",
       "      <th>10833</th>\n",
       "      <td>None</td>\n",
       "      <td>2022-10-05 16:40:36</td>\n",
       "      <td>VÍDEOS: AB1 de quarta-feira, 5 de outubro</td>\n",
       "    </tr>\n",
       "    <tr>\n",
       "      <th>10825</th>\n",
       "      <td>None</td>\n",
       "      <td>2022-10-05 16:50:02</td>\n",
       "      <td>VÍDEOS: EPTV 1 Sul de Minas de quarta-feira, 5...</td>\n",
       "    </tr>\n",
       "    <tr>\n",
       "      <th>11030</th>\n",
       "      <td>None</td>\n",
       "      <td>2022-10-05 17:38:47</td>\n",
       "      <td>VÍDEOS: JL1 desta quarta-feira, 5 de outubro d...</td>\n",
       "    </tr>\n",
       "    <tr>\n",
       "      <th>11089</th>\n",
       "      <td>None</td>\n",
       "      <td>2022-10-05 18:00:26</td>\n",
       "      <td>Jeffrey Dahmer: por que série sobre serial kil...</td>\n",
       "    </tr>\n",
       "  </tbody>\n",
       "</table>\n",
       "<p>11102 rows × 3 columns</p>\n",
       "</div>"
      ],
      "text/plain": [
       "      assunto           data_publ  \\\n",
       "10890     164 2022-10-05 12:23:32   \n",
       "11049     164 2022-10-05 12:05:55   \n",
       "10900     164 2022-10-05 00:38:36   \n",
       "10028     164 2022-05-24 22:00:31   \n",
       "6759      164 2022-05-16 18:11:06   \n",
       "...       ...                 ...   \n",
       "10841    None 2022-10-05 16:32:44   \n",
       "10833    None 2022-10-05 16:40:36   \n",
       "10825    None 2022-10-05 16:50:02   \n",
       "11030    None 2022-10-05 17:38:47   \n",
       "11089    None 2022-10-05 18:00:26   \n",
       "\n",
       "                                                  titulo  \n",
       "10890  Pai e filho brasileiros são presos nos EUA por...  \n",
       "11049  Brasileiros são presos nos EUA acusados de con...  \n",
       "10900  Brasileiro suspeito de agir como 'coiote' é in...  \n",
       "10028  Brasileiro é preso depois de ameaçar explodir ...  \n",
       "6759   Família de brasileiros abandona EUA devido a u...  \n",
       "...                                                  ...  \n",
       "10841  As histórias de jovens mortas nas manifestaçõe...  \n",
       "10833          VÍDEOS: AB1 de quarta-feira, 5 de outubro  \n",
       "10825  VÍDEOS: EPTV 1 Sul de Minas de quarta-feira, 5...  \n",
       "11030  VÍDEOS: JL1 desta quarta-feira, 5 de outubro d...  \n",
       "11089  Jeffrey Dahmer: por que série sobre serial kil...  \n",
       "\n",
       "[11102 rows x 3 columns]"
      ]
     },
     "execution_count": 4,
     "metadata": {},
     "output_type": "execute_result"
    }
   ],
   "source": [
    "vetorizador.vetorizar_sbert(noticias_df, usar_texto_limpo=False, incluir_resumo=False)\n",
    "ClusterizadorTextual().clusterizar(noticias_df, epsilon = 0.341808\t, min_samples=4, metric='cosine')\n",
    "noticias_clusterizadas_df = noticias_df[['assunto', 'data_publ', 'titulo']].copy()\n",
    "noticias_clusterizadas_df.sort_values('assunto', ascending=False, inplace=True)\n",
    "noticias_clusterizadas_df.to_csv('resultado_clusterizacao_textual.csv', index=False)\n",
    "noticias_clusterizadas_df"
   ]
  },
  {
   "cell_type": "markdown",
   "metadata": {},
   "source": [
    "Exemplo de cluster: privatização da Eletrobrás:"
   ]
  },
  {
   "cell_type": "code",
   "execution_count": 12,
   "metadata": {},
   "outputs": [
    {
     "data": {
      "text/html": [
       "<div>\n",
       "<style scoped>\n",
       "    .dataframe tbody tr th:only-of-type {\n",
       "        vertical-align: middle;\n",
       "    }\n",
       "\n",
       "    .dataframe tbody tr th {\n",
       "        vertical-align: top;\n",
       "    }\n",
       "\n",
       "    .dataframe thead th {\n",
       "        text-align: right;\n",
       "    }\n",
       "</style>\n",
       "<table border=\"1\" class=\"dataframe\">\n",
       "  <thead>\n",
       "    <tr style=\"text-align: right;\">\n",
       "      <th></th>\n",
       "      <th>assunto</th>\n",
       "      <th>data_publ</th>\n",
       "      <th>titulo</th>\n",
       "    </tr>\n",
       "  </thead>\n",
       "  <tbody>\n",
       "    <tr>\n",
       "      <th>10620</th>\n",
       "      <td>144</td>\n",
       "      <td>2022-05-27 22:18:00</td>\n",
       "      <td>Oferta pública de ações dá início à privatização da Eletrobras</td>\n",
       "    </tr>\n",
       "    <tr>\n",
       "      <th>10165</th>\n",
       "      <td>144</td>\n",
       "      <td>2022-05-27 13:17:04</td>\n",
       "      <td>Eletrobras lança oferta de ações para privatização da companhia</td>\n",
       "    </tr>\n",
       "    <tr>\n",
       "      <th>9608</th>\n",
       "      <td>144</td>\n",
       "      <td>2022-05-23 07:00:00</td>\n",
       "      <td>Quais são os próximos passos para a privatização da Eletrobras?</td>\n",
       "    </tr>\n",
       "    <tr>\n",
       "      <th>8850</th>\n",
       "      <td>144</td>\n",
       "      <td>2022-05-21 07:00:00</td>\n",
       "      <td>Vale comprar ações da Eletrobras, após aprovação de privatização pelo TCU?</td>\n",
       "    </tr>\n",
       "    <tr>\n",
       "      <th>8023</th>\n",
       "      <td>144</td>\n",
       "      <td>2022-05-19 16:16:13</td>\n",
       "      <td>Eletrobras sobe após TCU aprovar privatização; é bom para o investidor?</td>\n",
       "    </tr>\n",
       "    <tr>\n",
       "      <th>7959</th>\n",
       "      <td>144</td>\n",
       "      <td>2022-05-19 03:17:08</td>\n",
       "      <td>TCU aprova processo de privatização da Eletrobras</td>\n",
       "    </tr>\n",
       "    <tr>\n",
       "      <th>7952</th>\n",
       "      <td>144</td>\n",
       "      <td>2022-05-18 21:50:33</td>\n",
       "      <td>TCU forma maioria para aprovar privatização da Eletrobras</td>\n",
       "    </tr>\n",
       "    <tr>\n",
       "      <th>7857</th>\n",
       "      <td>144</td>\n",
       "      <td>2022-05-18 20:25:36</td>\n",
       "      <td>Por 7 votos a 1, TCU aprova processo de privatização da Eletrobras</td>\n",
       "    </tr>\n",
       "    <tr>\n",
       "      <th>7860</th>\n",
       "      <td>144</td>\n",
       "      <td>2022-05-18 19:08:15</td>\n",
       "      <td>Ministro do TCU Vital do Rêgo vota contra privatização da Eletrobras</td>\n",
       "    </tr>\n",
       "  </tbody>\n",
       "</table>\n",
       "</div>"
      ],
      "text/plain": [
       "      assunto           data_publ                                                                      titulo\n",
       "10620     144 2022-05-27 22:18:00              Oferta pública de ações dá início à privatização da Eletrobras\n",
       "10165     144 2022-05-27 13:17:04             Eletrobras lança oferta de ações para privatização da companhia\n",
       "9608      144 2022-05-23 07:00:00             Quais são os próximos passos para a privatização da Eletrobras?\n",
       "8850      144 2022-05-21 07:00:00  Vale comprar ações da Eletrobras, após aprovação de privatização pelo TCU?\n",
       "8023      144 2022-05-19 16:16:13     Eletrobras sobe após TCU aprovar privatização; é bom para o investidor?\n",
       "7959      144 2022-05-19 03:17:08                           TCU aprova processo de privatização da Eletrobras\n",
       "7952      144 2022-05-18 21:50:33                   TCU forma maioria para aprovar privatização da Eletrobras\n",
       "7857      144 2022-05-18 20:25:36          Por 7 votos a 1, TCU aprova processo de privatização da Eletrobras\n",
       "7860      144 2022-05-18 19:08:15        Ministro do TCU Vital do Rêgo vota contra privatização da Eletrobras"
      ]
     },
     "execution_count": 12,
     "metadata": {},
     "output_type": "execute_result"
    }
   ],
   "source": [
    "noticias_eletrobras_df = noticias_df.loc[noticias_df['assunto'] == 144][['assunto', 'data_publ', 'titulo']].copy()\n",
    "noticias_eletrobras_df.sort_values('data_publ', ascending=False, inplace=True)\n",
    "pd.set_option('display.max_colwidth', None)\n",
    "noticias_eletrobras_df"
   ]
  }
 ],
 "metadata": {
  "kernelspec": {
   "display_name": "Python 3.9.7 ('.venv': poetry)",
   "language": "python",
   "name": "python3"
  },
  "language_info": {
   "codemirror_mode": {
    "name": "ipython",
    "version": 3
   },
   "file_extension": ".py",
   "mimetype": "text/x-python",
   "name": "python",
   "nbconvert_exporter": "python",
   "pygments_lexer": "ipython3",
   "version": "3.9.7"
  },
  "orig_nbformat": 4,
  "vscode": {
   "interpreter": {
    "hash": "276be159886c33b94c62fdcd9dc61f812fb472c0c3d4f0c822970a2316ee1221"
   }
  }
 },
 "nbformat": 4,
 "nbformat_minor": 2
}
