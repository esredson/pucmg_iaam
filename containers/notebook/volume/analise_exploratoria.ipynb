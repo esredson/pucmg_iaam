{
 "cells": [
  {
   "cell_type": "markdown",
   "id": "64534d23-1f7a-4fd8-8836-c15699ad727b",
   "metadata": {
    "tags": []
   },
   "source": [
    "# Análise exploratória"
   ]
  },
  {
   "cell_type": "markdown",
   "id": "db439fdb-752e-45ce-bba1-262fdb619f5a",
   "metadata": {
    "tags": []
   },
   "source": [
    "## Imports, definição de funções e carregamento dos dados"
   ]
  },
  {
   "cell_type": "code",
   "execution_count": 1,
   "id": "dfbff057-996e-40e2-87ef-36cedfbbd88f",
   "metadata": {},
   "outputs": [
    {
     "ename": "ModuleNotFoundError",
     "evalue": "No module named 'manipular_banco'",
     "output_type": "error",
     "traceback": [
      "\u001b[0;31m---------------------------------------------------------------------------\u001b[0m",
      "\u001b[0;31mModuleNotFoundError\u001b[0m                       Traceback (most recent call last)",
      "Input \u001b[0;32mIn [1]\u001b[0m, in \u001b[0;36m<cell line: 1>\u001b[0;34m()\u001b[0m\n\u001b[0;32m----> 1\u001b[0m \u001b[38;5;28;01mimport\u001b[39;00m \u001b[38;5;21;01mmanipular_banco\u001b[39;00m\n\u001b[1;32m      2\u001b[0m \u001b[38;5;28;01mimport\u001b[39;00m \u001b[38;5;21;01mpreparar_texto\u001b[39;00m\n\u001b[1;32m      3\u001b[0m \u001b[38;5;28;01mimport\u001b[39;00m \u001b[38;5;21;01manalisar_texto\u001b[39;00m\n",
      "\u001b[0;31mModuleNotFoundError\u001b[0m: No module named 'manipular_banco'"
     ]
    }
   ],
   "source": [
    "import manipular_banco\n",
    "import preparar_texto\n",
    "\n",
    "import preparar_texto\n",
    "import matplotlib.pyplot as plt\n",
    "import nltk\n",
    "from nltk import ngrams\n",
    "\n",
    "def mostrar_ngrams_frequentes(df, coluna, n):\n",
    "    coluna_preparada = preparar_texto.prepar(df, coluna)\n",
    "    todas_as_palavras = [palavra for palavras in df[coluna_preparada] for palavra in palavras]\n",
    "    n_grams = ngrams(todas_as_palavras, n)\n",
    "    nltk_freq_distr = nltk.FreqDist(n_grams)\n",
    "    most_common = nltk_freq_distr.most_common(20)\n",
    "    plt.barh(range(len(most_common)),[val[1] for val in most_common], align='center')\n",
    "    plt.yticks(range(len(most_common)), [val[0] for val in most_common])\n",
    "    plt.show()    \n",
    "    \n",
    "def mostrar_registros_contendo_str_apos_preparacao(df, coluna, ngram_as_str):\n",
    "    coluna_preparada = preparar_texto.preparar(df, coluna)\n",
    "    return df[df[coluna_preparada].str.contains(ngram_as_str)][coluna]\n",
    "    \n",
    "def calcular_tamanho(df, coluna, force = False):\n",
    "    coluna_tamanho = 'tamanho_' + coluna\n",
    "    if not coluna_tamanho in df or force:\n",
    "        df['tamanho_' + coluna] = [len(c) for c in df[coluna]]\n",
    "    return coluna_tamanho\n",
    "    \n",
    "def mostrar_histograma(df, coluna):\n",
    "    coluna_tamanho = calcular_tamanho(df, coluna)\n",
    "    plt.hist(df[coluna_tamanho])\n",
    "    plt.show()\n",
    "    \n",
    "def mostrar_registros_com_tam_menor_q(df, coluna, tam):\n",
    "    coluna_tamanho = calcular_tamanho(df, coluna)\n",
    "    return df.loc[df[coluna_tamanho] < tam][coluna]\n",
    "    \n",
    "def mostrar_registros_com_tam_maior_q(df, coluna, tam):\n",
    "    coluna_tamanho = calcular_tamanho(df, coluna)\n",
    "    return df.loc[df[coluna_tamanho] > tam][coluna]\n",
    "\n",
    "noticias_df = manipular_banco.carregar_noticias()"
   ]
  },
  {
   "cell_type": "markdown",
   "id": "a34cc26e-2d86-4a51-a09b-82abbc02c368",
   "metadata": {
    "jp-MarkdownHeadingCollapsed": true,
    "tags": []
   },
   "source": [
    "## Análise de palavras e ngrams"
   ]
  },
  {
   "cell_type": "markdown",
   "id": "cee873c6-648d-42bc-b5a3-65b821cfcc6c",
   "metadata": {
    "jp-MarkdownHeadingCollapsed": true,
    "tags": []
   },
   "source": [
    "### Palavras mais frequentes do título"
   ]
  },
  {
   "cell_type": "code",
   "execution_count": null,
   "id": "9c5383a3-4421-46da-bf9f-ed96aa7c7891",
   "metadata": {},
   "outputs": [],
   "source": [
    "mostrar_ngrams_frequentes(noticias_df, 'titulo', 1)"
   ]
  },
  {
   "cell_type": "markdown",
   "id": "c343e434-3cac-41ff-8413-5648f660727b",
   "metadata": {},
   "source": [
    "Das palavras muito frequentes acima, \"veja\" parece indicar matérias desprovidas de utilidade. Necessário analisar os bigrams."
   ]
  },
  {
   "cell_type": "markdown",
   "id": "480e06d2-bfe6-4841-870c-8655c0bdd349",
   "metadata": {
    "jp-MarkdownHeadingCollapsed": true,
    "tags": []
   },
   "source": [
    "### Bigrams mais frequentes do título"
   ]
  },
  {
   "cell_type": "code",
   "execution_count": null,
   "id": "772d6868-cab0-43ec-853e-2edbb47a7fb3",
   "metadata": {},
   "outputs": [],
   "source": [
    "mostrar_ngrams_frequentes(noticias_df, 'titulo', 2)"
   ]
  },
  {
   "cell_type": "markdown",
   "id": "b2173a8a-2495-4e32-be5e-af8e27352536",
   "metadata": {},
   "source": [
    "Dos bigrams acima, parece estranho \"vagas emprego\", \"homem preso\", \"morre apos\", \"neste sabado\", \"veja valores\", \"segundafeira maio\" (ou \"sextafeira maio\") constarem entre os mais frequentes. Verificando cada expressão dessas..."
   ]
  },
  {
   "cell_type": "markdown",
   "id": "bdb04f37-9f44-483e-bbad-18f803472017",
   "metadata": {},
   "source": [
    "#### \"vagas emprego\""
   ]
  },
  {
   "cell_type": "code",
   "execution_count": null,
   "id": "5520383c-15bb-41d9-bfd3-2abd12ffad80",
   "metadata": {},
   "outputs": [],
   "source": [
    "mostrar_registros_contendo_str_apos_preparacao(noticias_df, 'titulo', 'vagas emprego')"
   ]
  },
  {
   "cell_type": "markdown",
   "id": "5cfc2956-7761-4bae-95b2-904912637c89",
   "metadata": {},
   "source": [
    "**Decisão:** Algumas das matérias contendo o bigram \"vagas emprego\" parecem ser publicadas diariamente, e não tratar de assuntos específicos, cuja cobertura possa variar com o tempo. É necessário analisar os trigrams para decidir manter ou eliminar."
   ]
  },
  {
   "cell_type": "markdown",
   "id": "8913cf29-74c0-4b61-87ec-2c071deec1da",
   "metadata": {
    "tags": []
   },
   "source": [
    "#### \"homem preso\""
   ]
  },
  {
   "cell_type": "code",
   "execution_count": null,
   "id": "07f4b3e1-60b8-4276-87e7-c944913c2e00",
   "metadata": {},
   "outputs": [],
   "source": [
    "mostrar_registros_contendo_str_apos_preparacao(noticias_df, 'titulo', 'homem preso')"
   ]
  },
  {
   "cell_type": "markdown",
   "id": "14c7db2d-3683-41da-9696-fd009379cc81",
   "metadata": {},
   "source": [
    "**Decisão:** ignorar \"homem preso\" pois parece apenas uma expressão frequente, em notícias legítimas"
   ]
  },
  {
   "cell_type": "markdown",
   "id": "2e341f38-c5cf-46fc-bdb9-7b411943f8ba",
   "metadata": {
    "tags": []
   },
   "source": [
    "#### \"morre apos\""
   ]
  },
  {
   "cell_type": "code",
   "execution_count": null,
   "id": "0d38f243-550a-4a92-8f87-73476d3c6498",
   "metadata": {},
   "outputs": [],
   "source": [
    "mostrar_registros_contendo_str_apos_preparacao(noticias_df, 'titulo', 'morre apos')"
   ]
  },
  {
   "cell_type": "markdown",
   "id": "f32fee0b-1b20-4f37-b750-0f995bf45b29",
   "metadata": {},
   "source": [
    "**Decisão:** ignorar \"morre apos\" pois parece apenas uma expressão frequente, em notícias legítimas"
   ]
  },
  {
   "cell_type": "markdown",
   "id": "63266415-73b3-4d52-971b-8500c1659cfd",
   "metadata": {
    "tags": []
   },
   "source": [
    "#### \"neste sabado\""
   ]
  },
  {
   "cell_type": "code",
   "execution_count": null,
   "id": "f084210f-f2c4-4608-ac7c-b2f84bc0a39e",
   "metadata": {},
   "outputs": [],
   "source": [
    "mostrar_registros_contendo_str_apos_preparacao(noticias_df, 'titulo', 'neste sabado')"
   ]
  },
  {
   "cell_type": "markdown",
   "id": "8a58733a-708b-4aa7-a0dc-68c41c7d5f79",
   "metadata": {},
   "source": [
    "**Decisão:** ignorar \"neste sabado\" pois parece apenas uma expressão frequente, em notícias legítimas"
   ]
  },
  {
   "cell_type": "markdown",
   "id": "6f355ba1-1b0d-46cc-aaa3-58a521f42545",
   "metadata": {
    "tags": []
   },
   "source": [
    "#### \"veja valores\""
   ]
  },
  {
   "cell_type": "code",
   "execution_count": null,
   "id": "250a6e5f-55f8-477a-98fe-bbe7ed5b1899",
   "metadata": {},
   "outputs": [],
   "source": [
    "mostrar_registros_contendo_str_apos_preparacao(noticias_df, 'titulo', 'veja valores')"
   ]
  },
  {
   "cell_type": "markdown",
   "id": "c9302a82-449e-4598-81a4-94fabf05890d",
   "metadata": {},
   "source": [
    "**Decisão:** remover as matérias que contêm o bigram \"veja valores\" no título pois parecem ser publicadas diariamente, e não tratar de assuntos específicos, cuja cobertura possa variar com o tempo."
   ]
  },
  {
   "cell_type": "code",
   "execution_count": null,
   "id": "37429f8a-de7a-4ee3-afdf-cbdda4442b05",
   "metadata": {},
   "outputs": [],
   "source": [
    "remover_registros_contendo_str_apos_preparacao(noticias_df, 'titulo', 'veja valores')"
   ]
  },
  {
   "cell_type": "markdown",
   "id": "ebafbd17-3c5b-42b6-af31-055b87dedcf1",
   "metadata": {
    "tags": []
   },
   "source": [
    "#### \"segundafeira maio\""
   ]
  },
  {
   "cell_type": "code",
   "execution_count": null,
   "id": "29cac107-2d87-41a6-97fb-c05bb036be63",
   "metadata": {},
   "outputs": [],
   "source": [
    "mostrar_registros_contendo_str_apos_preparacao(noticias_df, 'titulo', 'segundafeira maio')"
   ]
  },
  {
   "cell_type": "markdown",
   "id": "10f9e2d0-f3bc-472d-a371-cea17e9bf9f6",
   "metadata": {},
   "source": [
    "**Decisão:** remover as matérias cujo título começa com \"VÍDEOS:\" pois parecem ser publicadas diariamente, e não tratar de assuntos específicos, cuja cobertura possa variar com o tempo."
   ]
  },
  {
   "cell_type": "code",
   "execution_count": null,
   "id": "447d48cd-df27-4a01-a510-6df6061cd1a1",
   "metadata": {},
   "outputs": [],
   "source": [
    "remover_registros_contendo_regex(noticias_df, 'titulo', '^VÍDEOS:')"
   ]
  },
  {
   "cell_type": "markdown",
   "id": "5e91fd08-689d-4617-94a2-2f36e0e499a8",
   "metadata": {
    "jp-MarkdownHeadingCollapsed": true,
    "tags": []
   },
   "source": [
    "### Trigrams mais frequentes do título"
   ]
  },
  {
   "cell_type": "code",
   "execution_count": null,
   "id": "eb090d1f-e084-4796-8ca4-321ac482e175",
   "metadata": {},
   "outputs": [],
   "source": [
    "mostrar_ngrams_frequentes(noticias_df, 'titulo', 3)"
   ]
  },
  {
   "cell_type": "markdown",
   "id": "d27a2cc2-7c90-465a-80ad-76a44f655fec",
   "metadata": {},
   "source": [
    "Dos trigrams acima, considerando também o resultado da análise dos bigrams, parece estranho \"apos dois anos\", \"veja boletim prefeitura\", \"covid veja boletim\" constarem entre os mais frequentes.\n",
    "\n",
    "Também causam estranheza as expressões \"araripina salgueiro nesta\", \"petrolina araripina salgueiro\", \"disponiveis petrolina araripina\", \"emprego disponiveis petrolina\", \"ofertas vagas emprego\", \"vagas emprego nesta\", \"veja vagas emprego\". \n",
    "\n",
    "Verificando cada expressão dessas..."
   ]
  },
  {
   "cell_type": "markdown",
   "id": "322c6bbf-0d42-4574-a4d2-2867f1702bab",
   "metadata": {
    "tags": []
   },
   "source": [
    "#### \"apos dois anos\""
   ]
  },
  {
   "cell_type": "code",
   "execution_count": null,
   "id": "cf50ae86-7b01-4395-b18c-43b6104feaf3",
   "metadata": {},
   "outputs": [],
   "source": [
    "mostrar_registros_contendo_str_apos_preparacao(noticias_df, 'titulo', 'apos dois anos')"
   ]
  },
  {
   "cell_type": "markdown",
   "id": "28166785-5521-4df5-8bf1-2892d2c2c4cb",
   "metadata": {},
   "source": [
    "**Decisão:** ignorar \"apos dois anos\" pois parece apenas uma expressão frequente, em notícias legítimas"
   ]
  },
  {
   "cell_type": "markdown",
   "id": "d8d81f7a-2c8a-45a5-9aac-e5c17c5dc429",
   "metadata": {},
   "source": [
    "#### \"veja boletim prefeitura\" e \"covid veja boletim\""
   ]
  },
  {
   "cell_type": "code",
   "execution_count": null,
   "id": "550b5270-6792-447e-a2ec-e45f23cf5869",
   "metadata": {},
   "outputs": [],
   "source": [
    "mostrar_registros_contendo_str_apos_preparacao(noticias_df, 'titulo', 'veja boletim prefeitura')"
   ]
  },
  {
   "cell_type": "markdown",
   "id": "9d42866d-8762-4a4d-8b9c-d46ed39717a4",
   "metadata": {},
   "source": [
    "**Decisão:** remover as matérias cujo título começa com \"Covid-19: veja boletim\" pois, embora tratem de um acontecimento específico, parecem ser publicadas diariamente no mesmo formato."
   ]
  },
  {
   "cell_type": "code",
   "execution_count": null,
   "id": "d09cd197-1946-4c8a-bbe0-4c9157513068",
   "metadata": {},
   "outputs": [],
   "source": [
    "remover_registros_contendo_regex(noticias_df, 'titulo', '^Covid-19: veja boletim')"
   ]
  },
  {
   "cell_type": "markdown",
   "id": "572e07f1-1355-4561-bba8-44e430dc70e3",
   "metadata": {},
   "source": [
    "#### \"veja vagas emprego\", \"vagas emprego nesta\", \"emprego disponiveis petrolina\", \"disponiveis petrolina araripina\", \"petrolina araripina salgueiro\" e \"araripina salgueiro nesta\""
   ]
  },
  {
   "cell_type": "code",
   "execution_count": null,
   "id": "27dc5463-5c59-4010-bc54-f1389dd5beca",
   "metadata": {},
   "outputs": [],
   "source": [
    "mostrar_registros_contendo_str_apos_preparacao(noticias_df, 'titulo', 'veja vagas emprego')"
   ]
  },
  {
   "cell_type": "markdown",
   "id": "8c72c8ba-78e0-41f2-ac74-eccfb7938227",
   "metadata": {},
   "source": [
    "**Decisão:** remover as matérias cujo título contém a expressão regular \"veja .*vagas de emprego\", pois parecem ser publicadas diariamente, e não tratar de assuntos específicos, cuja cobertura possa variar com o tempo."
   ]
  },
  {
   "cell_type": "code",
   "execution_count": null,
   "id": "c101bdd6-e0b2-4cb0-9315-c0dc1ed24619",
   "metadata": {},
   "outputs": [],
   "source": [
    "remover_registros_contendo_regex(noticias_df, 'titulo', 'eja .*vagas de emprego')"
   ]
  },
  {
   "cell_type": "markdown",
   "id": "58cf25a8-be70-40cd-83a1-673ec6cc1d96",
   "metadata": {},
   "source": [
    "#### \"oferta vagas emprego\""
   ]
  },
  {
   "cell_type": "code",
   "execution_count": null,
   "id": "63670ad0-4b20-422e-aae7-2b05e62922e5",
   "metadata": {},
   "outputs": [],
   "source": [
    "mostrar_registros_contendo_str_apos_preparacao(noticias_df, 'titulo', 'oferta vagas emprego')"
   ]
  },
  {
   "cell_type": "markdown",
   "id": "de215b77-aa6e-467f-af8a-b881b44bf678",
   "metadata": {},
   "source": [
    "**Decisão:** remover as matérias que contêm o trigram \"oferta vagas emprego\" no título pois parecem ser publicadas diariamente, e não tratar de assuntos específicos, cuja cobertura possa variar com o tempo."
   ]
  },
  {
   "cell_type": "code",
   "execution_count": null,
   "id": "2fbed830-b468-49ca-868b-8517ee40ce29",
   "metadata": {},
   "outputs": [],
   "source": [
    "remover_registros_contendo_str_apos_preparacao(noticias_df, 'titulo', 'oferta vagas emprego')"
   ]
  },
  {
   "cell_type": "markdown",
   "id": "3d3ad2ac-e44f-4782-9b63-e3823c777375",
   "metadata": {
    "jp-MarkdownHeadingCollapsed": true,
    "tags": []
   },
   "source": [
    "### Palavras mais frequentes do resumo"
   ]
  },
  {
   "cell_type": "code",
   "execution_count": null,
   "id": "cfb567c3-6f75-47b0-b648-22177d075650",
   "metadata": {},
   "outputs": [],
   "source": [
    "mostrar_ngrams_frequentes(noticias_df, 'resumo', 1)"
   ]
  },
  {
   "cell_type": "markdown",
   "id": "e10b70ac-2fff-453e-9874-4a5262e3b020",
   "metadata": {},
   "source": [
    "Das palavras muito frequentes acima, \"veja\" e \"videos\" parecem indicar resumos desprovidos de utilidade. Necessário analisar os bigrams."
   ]
  },
  {
   "cell_type": "markdown",
   "id": "548bf5f4-73c2-4ddd-9bf9-a5dde3551861",
   "metadata": {
    "jp-MarkdownHeadingCollapsed": true,
    "tags": []
   },
   "source": [
    "### Bigrams mais frequentes do resumo"
   ]
  },
  {
   "cell_type": "code",
   "execution_count": null,
   "id": "3d3b08db-ead3-4dd9-8e1f-ef51d65b8e1f",
   "metadata": {},
   "outputs": [],
   "source": [
    "mostrar_ngrams_frequentes(noticias_df, 'resumo', 2)"
   ]
  },
  {
   "cell_type": "markdown",
   "id": "d3dd6d2e-850b-4f8d-9370-d435d17ca69e",
   "metadata": {},
   "source": [
    "Dos bigrams acima, e considerando a análise feita anteriormente sobre o resumo, parece estranho \"noticias regiao\", \"tudo sobre\", \"veja noticias\", \"mix vale\", \"primeiro mix\" e \"apareceu primeiro\" constarem entre os mais frequentes. Verificando cada expressão dessas..."
   ]
  },
  {
   "cell_type": "markdown",
   "id": "15935542-0bbc-4397-9269-834c3a87e0b5",
   "metadata": {
    "tags": []
   },
   "source": [
    "#### \"noticias regiao\""
   ]
  },
  {
   "cell_type": "code",
   "execution_count": null,
   "id": "29841f38-fe5d-472e-9460-03f9749e8be3",
   "metadata": {},
   "outputs": [],
   "source": [
    "mostrar_registros_contendo_str_apos_preparacao(noticias_df, 'resumo', 'noticias regiao')"
   ]
  },
  {
   "cell_type": "markdown",
   "id": "2a138de9-22f2-430e-afae-3dc66047d29d",
   "metadata": {},
   "source": [
    "**Decisão:** remover do fim do resumo as frases que iniciam em \"Confira mais notícias\", \"Veja mais notícias\", \"VÍDEOS:\" ou \"Assista aos vídeos\" pois podem contribuir para indicar similaridade entre matérias totalmente diferentes"
   ]
  },
  {
   "cell_type": "code",
   "execution_count": null,
   "id": "0304440e-6279-492f-b300-92ed45f69dd7",
   "metadata": {},
   "outputs": [],
   "source": [
    "remover_trechos_contendo_regex(noticias_df, 'resumo', '(?:\\.|\\\\n).*?(?:Veja|Confira|Assista|Saiba|Leia|Ouça|Compartilhe).*?(?:\\.|\\\\n|$)')\n",
    "remover_trechos_contendo_regex(noticias_df, 'resumo', '(?:\\.|\\\\n).*?vídeos.*?(?:\\.|\\\\n|$)')"
   ]
  },
  {
   "cell_type": "markdown",
   "id": "5dee2046-4fee-44fb-8dbc-a1177f9f3842",
   "metadata": {
    "tags": []
   },
   "source": [
    "#### \"tudo sobre\""
   ]
  },
  {
   "cell_type": "code",
   "execution_count": null,
   "id": "3a678809-53c4-49eb-942d-af93eb2c754a",
   "metadata": {},
   "outputs": [],
   "source": [
    "mostrar_registros_contendo_str_apos_preparacao(noticias_df, 'resumo', 'tudo sobre')"
   ]
  },
  {
   "cell_type": "markdown",
   "id": "f2fc26f6-7cd3-401d-9dba-3796a41bfc3d",
   "metadata": {},
   "source": [
    "**Decisão:** remover do resumo frases que contenham \"Tudo sobre\""
   ]
  },
  {
   "cell_type": "code",
   "execution_count": null,
   "id": "e9cb6452-aa62-42f8-a336-cc0ce4528a62",
   "metadata": {},
   "outputs": [],
   "source": [
    "remover_trechos_contendo_regex(noticias_df, 'resumo', '(?:\\.|\\\\n).*?udo sobre.*?(?:\\.|\\\\n|$)')"
   ]
  },
  {
   "cell_type": "markdown",
   "id": "2b57a47f-65b7-4aaa-86fc-4135006294c4",
   "metadata": {
    "jp-MarkdownHeadingCollapsed": true,
    "tags": []
   },
   "source": [
    "#### \"veja noticias\""
   ]
  },
  {
   "cell_type": "code",
   "execution_count": null,
   "id": "a806130a-fa53-4a9f-97af-2f471a974afd",
   "metadata": {},
   "outputs": [],
   "source": [
    "mostrar_registros_contendo_str_apos_preparacao(noticias_df, 'resumo', 'veja noticias')"
   ]
  },
  {
   "cell_type": "markdown",
   "id": "dd89b6cb-6eab-49c4-ac81-4a48e94dc784",
   "metadata": {},
   "source": [
    "Sem ocorrências, depois de executados os procedimentos referentes aos bigrams acima"
   ]
  },
  {
   "cell_type": "markdown",
   "id": "abb09486-a679-42ba-9b62-7821874b5a82",
   "metadata": {
    "tags": []
   },
   "source": [
    "#### \"apareceu primeiro\", \"primeiro mix\" e \"mix vale\""
   ]
  },
  {
   "cell_type": "code",
   "execution_count": null,
   "id": "686af7db-b5d9-44aa-b0aa-86788a1d317b",
   "metadata": {},
   "outputs": [],
   "source": [
    "mostrar_registros_contendo_str_apos_preparacao(noticias_df, 'resumo', 'mix vale')"
   ]
  },
  {
   "cell_type": "markdown",
   "id": "e9942b36-1ff9-4540-a7e2-9122b2ae28ed",
   "metadata": {},
   "source": [
    "**Decisão:** eliminar a frase \"apareceu primeiro no Mix Vale.\""
   ]
  },
  {
   "cell_type": "code",
   "execution_count": null,
   "id": "b9c0be14-375e-4ad8-90e0-526e684376d0",
   "metadata": {},
   "outputs": [],
   "source": [
    "remover_trechos_contendo_regex(noticias_df, 'resumo', '(?:\\.|\\\\n).*?apareceu primeiro.*?(?:\\.|\\\\n|$)')"
   ]
  },
  {
   "cell_type": "markdown",
   "id": "4952751e-39d4-4b66-b840-97229d4899d7",
   "metadata": {
    "jp-MarkdownHeadingCollapsed": true,
    "tags": []
   },
   "source": [
    "### Trigrams mais frequentes do resumo"
   ]
  },
  {
   "cell_type": "code",
   "execution_count": null,
   "id": "ffb6af3b-d9f4-4a5b-aed6-0bc69ac8cbbe",
   "metadata": {},
   "outputs": [],
   "source": [
    "mostrar_ngrams_frequentes(noticias_df, 'resumo', 3)"
   ]
  },
  {
   "cell_type": "markdown",
   "id": "286e7f43-66c1-451e-bb55-e673af22db16",
   "metadata": {},
   "source": [
    "Dos trigrams acima, parece estranho \"getty images via\", \"reproducao tv globo\", \"medio completo experiencia\" (e \"ensino médio completo\"), \"primeiro revista oeste\" (e \"apareceu primeiro jornal\") constarem entre os mais frequentes.\n",
    "\n",
    "Verificando cada expressão dessas..."
   ]
  },
  {
   "cell_type": "markdown",
   "id": "9266f157-69ae-46e5-9884-9ee37cd881b0",
   "metadata": {},
   "source": [
    "#### getty images via"
   ]
  },
  {
   "cell_type": "code",
   "execution_count": null,
   "id": "6876feae-c2df-489d-aede-28f094ddfcb1",
   "metadata": {},
   "outputs": [],
   "source": [
    "mostrar_registros_contendo_str_apos_preparacao(noticias_df, 'resumo', 'getty images via')"
   ]
  },
  {
   "cell_type": "markdown",
   "id": "4addae8f-99ef-4861-87a2-775ef748f3ec",
   "metadata": {},
   "source": [
    "**Decisão:** remover a frase \"Getty Images via BBC\""
   ]
  },
  {
   "cell_type": "code",
   "execution_count": null,
   "id": "fb0d0598-cfc3-4708-9a78-afd364056b32",
   "metadata": {},
   "outputs": [],
   "source": [
    "remover_trechos_contendo_regex(noticias_df, 'resumo', 'Getty Images.*?(\\\\n|\\.)')"
   ]
  },
  {
   "cell_type": "markdown",
   "id": "a2083eb1-6ccd-4433-a39b-d14c426ebb74",
   "metadata": {},
   "source": [
    "#### \"reproducao tv globo\""
   ]
  },
  {
   "cell_type": "code",
   "execution_count": null,
   "id": "520477f5-17bd-45ce-9af7-7ce66cc20204",
   "metadata": {},
   "outputs": [],
   "source": [
    "mostrar_registros_contendo_str_apos_preparacao(noticias_df, 'resumo', 'reproducao tv globo')"
   ]
  },
  {
   "cell_type": "markdown",
   "id": "ebd2598e-3e11-4e0e-9004-c2d4b8d00d6a",
   "metadata": {},
   "source": [
    "**Decisão:** remover a frase \"Reprodução/TV Globo\""
   ]
  },
  {
   "cell_type": "code",
   "execution_count": null,
   "id": "f2517f5e-f527-4c3c-914a-1ec89e16c92f",
   "metadata": {},
   "outputs": [],
   "source": [
    "remover_trechos_contendo_regex(noticias_df, 'resumo', 'Reprodução\\s*/\\s*TV Globo')"
   ]
  },
  {
   "cell_type": "markdown",
   "id": "ae3b7b3a-301c-42d0-b3f5-a8c24bf84191",
   "metadata": {},
   "source": [
    "#### \"medio completo experiencia\""
   ]
  },
  {
   "cell_type": "code",
   "execution_count": null,
   "id": "71faf5fc-975d-49f7-83d1-aec21064f461",
   "metadata": {},
   "outputs": [],
   "source": [
    "mostrar_registros_contendo_str_apos_preparacao(noticias_df, 'resumo', 'medio completo experiencia')"
   ]
  },
  {
   "cell_type": "markdown",
   "id": "5dadbdc9-d082-4c75-818b-4257695cee21",
   "metadata": {},
   "source": [
    "**Decisão:** remover matérias contendo o bigram \"completo experiencia\" pois..."
   ]
  },
  {
   "cell_type": "code",
   "execution_count": null,
   "id": "df125f6c-9d7a-47d1-b5b2-ace71f0d9bb0",
   "metadata": {},
   "outputs": [],
   "source": [
    "remover_registros_contendo_str_apos_preparacao(noticias_df, 'resumo', 'completo experiencia')"
   ]
  },
  {
   "cell_type": "markdown",
   "id": "82cd799f-4020-4150-a94c-9496c0bed054",
   "metadata": {},
   "source": [
    "#### \"primeiro revista oeste\" (e \"apareceu primeiro jornal\")"
   ]
  },
  {
   "cell_type": "code",
   "execution_count": null,
   "id": "ba99fd0f-c9b0-48f1-910a-f1b53d5796d9",
   "metadata": {},
   "outputs": [],
   "source": [
    "mostrar_registros_contendo_str_apos_preparacao(noticias_df, 'resumo', 'compartilhe')"
   ]
  },
  {
   "cell_type": "markdown",
   "id": "f7998933-0f6e-42f5-927c-65ad944d2e24",
   "metadata": {
    "jp-MarkdownHeadingCollapsed": true,
    "tags": []
   },
   "source": [
    "## Análise dos textos quanto ao tamanho"
   ]
  },
  {
   "cell_type": "markdown",
   "id": "a11e17b3-d6c7-4d08-8a26-75fe98b82f0b",
   "metadata": {
    "tags": []
   },
   "source": [
    "### Título"
   ]
  },
  {
   "cell_type": "markdown",
   "id": "4b692d76-e53a-4606-bd76-7e30f0c11949",
   "metadata": {
    "tags": []
   },
   "source": [
    "#### Histograma do título"
   ]
  },
  {
   "cell_type": "code",
   "execution_count": null,
   "id": "c0afb946-0670-4b49-8930-1bbc5dc73336",
   "metadata": {},
   "outputs": [],
   "source": [
    "mostrar_histograma(noticias_df, 'titulo')"
   ]
  },
  {
   "cell_type": "markdown",
   "id": "d463b448-c690-49bc-8651-643613b52f71",
   "metadata": {},
   "source": [
    "Não parece haver uma variação de tamanho muito discrepante entre os títulos. Para confirmar, analisar os títulos cujo tamanho está nas faixas extremas do histograma:"
   ]
  },
  {
   "cell_type": "markdown",
   "id": "d2540fe4-a4c4-4e1a-ac37-2143261d7cd0",
   "metadata": {
    "tags": []
   },
   "source": [
    "#### Títulos muito curtos"
   ]
  },
  {
   "cell_type": "code",
   "execution_count": null,
   "id": "14e66892-e07b-4e8d-a94d-b34676e1e395",
   "metadata": {},
   "outputs": [],
   "source": [
    "mostrar_registros_com_tam_menor_q(noticias_df, 'titulo', 21)"
   ]
  },
  {
   "cell_type": "markdown",
   "id": "6bdc5025-107d-49b7-a7e9-41c70f8e0d6f",
   "metadata": {},
   "source": [
    "Seria proveitoso apenas verificar do que se tratam as matérias cujo título tem apenas uma palavra:"
   ]
  },
  {
   "cell_type": "code",
   "execution_count": null,
   "id": "32b77c37-15a3-462d-8b6d-fb27a80dd1b4",
   "metadata": {},
   "outputs": [],
   "source": [
    "noticias_df[noticias_df['titulo'].isin(['Posse', 'Resgate', 'Aurora'])]"
   ]
  },
  {
   "cell_type": "markdown",
   "id": "3eafab9e-6597-4a5f-b950-5447d4477c59",
   "metadata": {},
   "source": [
    "**Decisão:** manter todas essas matérias, pois parecem legítimas"
   ]
  },
  {
   "cell_type": "markdown",
   "id": "e7187f8e-2132-4f86-80d5-c16d3a6ce99a",
   "metadata": {
    "tags": []
   },
   "source": [
    "#### Títulos muito longos"
   ]
  },
  {
   "cell_type": "code",
   "execution_count": null,
   "id": "b6a4cb82-ced7-4796-9d62-018a8a0ae2d3",
   "metadata": {},
   "outputs": [],
   "source": [
    "mostrar_registros_com_tam_maior_q(noticias_df, 'titulo', 140)"
   ]
  },
  {
   "cell_type": "markdown",
   "id": "cad2be5c-bfaf-4a98-864f-26e3769b098b",
   "metadata": {},
   "source": [
    "**Decisão:** Todas essas parecem matérias legítimas, sem necessidade de intervenção"
   ]
  },
  {
   "cell_type": "markdown",
   "id": "ef674fa9-9aec-4435-a655-481f61a31feb",
   "metadata": {
    "tags": []
   },
   "source": [
    "### Resumo"
   ]
  },
  {
   "cell_type": "markdown",
   "id": "4d173adc-2cb2-4f45-8974-c656998d0c1c",
   "metadata": {
    "tags": []
   },
   "source": [
    "#### Matérias sem resumo"
   ]
  },
  {
   "cell_type": "code",
   "execution_count": null,
   "id": "2848cce7-7ff0-4bd5-b3a4-3d76795f05f4",
   "metadata": {},
   "outputs": [],
   "source": [
    "len(noticias_df[noticias_df['resumo'] == ''])"
   ]
  },
  {
   "cell_type": "code",
   "execution_count": null,
   "id": "f2de2d2e-a50d-402b-abcf-fdd2b64b99b2",
   "metadata": {},
   "outputs": [],
   "source": [
    "len(noticias_df[noticias_df['resumo'] == None])"
   ]
  },
  {
   "cell_type": "code",
   "execution_count": null,
   "id": "ecff55af-cfbf-48b3-b9d6-12a591ba7a0a",
   "metadata": {},
   "outputs": [],
   "source": [
    "len(noticias_df[noticias_df['resumo'].isnull()])"
   ]
  },
  {
   "cell_type": "markdown",
   "id": "b44572a0-41b8-4153-85ed-07ce1c144049",
   "metadata": {},
   "source": [
    "Pelos comandos acima, verifica-se que há um número considerável matérias com resumo vazio. O impacto disso terá de ser obvervado ao se avaliar a execução dos algoritmos de machine learning."
   ]
  },
  {
   "cell_type": "markdown",
   "id": "69c86060-4d1e-4030-964a-7e90bd05f52b",
   "metadata": {
    "tags": []
   },
   "source": [
    "#### Histograma do resumo"
   ]
  },
  {
   "cell_type": "code",
   "execution_count": null,
   "id": "a65c9f23-748a-4473-bd14-ab0426b7f50e",
   "metadata": {},
   "outputs": [],
   "source": [
    "mostrar_histograma(noticias_df, 'resumo')"
   ]
  },
  {
   "cell_type": "markdown",
   "id": "3487e911-dd2a-48ec-8b4c-c0a7ca012a33",
   "metadata": {},
   "source": [
    "A grande maioria dos resumos tem tamanho menor que 3500 caracteres. Percebe-se uma amplitude considerável nos tamanhos dos resumos. Ou seja, há uma variação muito grande na quantidade de informação contida nos resumos. Assim como mencionado com relação à ausência do resumo, o impacto dessa variação terá de ser obvervado ao se avaliar a execução dos algoritmos de machine learning."
   ]
  },
  {
   "cell_type": "code",
   "execution_count": null,
   "id": "e944b585-e4c3-4a7d-b14e-1dc1d084fd8c",
   "metadata": {},
   "outputs": [],
   "source": []
  }
 ],
 "metadata": {
  "kernelspec": {
   "display_name": "Python 3 (ipykernel)",
   "language": "python",
   "name": "python3"
  },
  "language_info": {
   "codemirror_mode": {
    "name": "ipython",
    "version": 3
   },
   "file_extension": ".py",
   "mimetype": "text/x-python",
   "name": "python",
   "nbconvert_exporter": "python",
   "pygments_lexer": "ipython3",
   "version": "3.10.5"
  }
 },
 "nbformat": 4,
 "nbformat_minor": 5
}
